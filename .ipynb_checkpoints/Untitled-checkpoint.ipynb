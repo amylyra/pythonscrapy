{
 "cells": [
  {
   "cell_type": "code",
   "execution_count": 1,
   "metadata": {
    "collapsed": false
   },
   "outputs": [
    {
     "name": "stderr",
     "output_type": "stream",
     "text": [
      "/Users/amy/anaconda/lib/python2.7/site-packages/fuzzywuzzy/fuzz.py:35: UserWarning: Using slow pure-python SequenceMatcher. Install python-Levenshtein to remove this warning\n",
      "  warnings.warn('Using slow pure-python SequenceMatcher. Install python-Levenshtein to remove this warning')\n"
     ]
    }
   ],
   "source": [
    "import pandas as pd\n",
    "import sklearn\n",
    "import numpy as np\n",
    "import scipy as sp\n",
    "import operator\n",
    "import csv\n",
    "import re\n",
    "import json\n",
    "import seaborn as sns\n",
    "import matplotlib.pyplot as plt\n",
    "import matplotlib\n",
    "import operator\n",
    "from collections import Counter\n",
    "from address_parser.address_parser import ParseAddress\n",
    "from fuzzywuzzy import fuzz\n",
    "from sklearn.feature_extraction.text import CountVectorizer\n",
    "\n",
    "\n",
    "matplotlib.style.use('ggplot')\n",
    "%matplotlib notebook "
   ]
  },
  {
   "cell_type": "code",
   "execution_count": 2,
   "metadata": {
    "collapsed": true
   },
   "outputs": [],
   "source": [
    "df = pd.read_json('./data/ulta-cream.json')"
   ]
  },
  {
   "cell_type": "code",
   "execution_count": 3,
   "metadata": {
    "collapsed": false
   },
   "outputs": [],
   "source": [
    "for index, row in df.iterrows(): \n",
    "    try: \n",
    "        df.loc[index, 'number_reviews'] = int(row['number_reviews'][0])\n",
    "    except: \n",
    "        df.loc[index, 'number_reviews'] = -10\n",
    "    \n",
    "    try: \n",
    "        df.loc[index, 'category'] = row['category'][-1]\n",
    "    except: \n",
    "        df.loc[index, 'category'] = ''\n",
    "    \n",
    "    try: \n",
    "        df.loc[index, 'brand'] = row['brand'][-1]\n",
    "    except: \n",
    "        df.loc[index, 'brand'] = ''"
   ]
  },
  {
   "cell_type": "code",
   "execution_count": 5,
   "metadata": {
    "collapsed": false,
    "scrolled": false
   },
   "outputs": [
    {
     "data": {
      "text/plain": [
       "0                 Smashbox\n",
       "1                  Lancôme\n",
       "2            Honest Beauty\n",
       "3                  Lancôme\n",
       "4                      No7\n",
       "5           Dr. Lip Bang's\n",
       "6          Elizabeth Arden\n",
       "7                      No7\n",
       "8                 Clinique\n",
       "9             BareMinerals\n",
       "10                    Olay\n",
       "11                  Simple\n",
       "12                 Origins\n",
       "13           The Body Shop\n",
       "14           The Body Shop\n",
       "15     Rosebud Perfume Co.\n",
       "16             Burt's Bees\n",
       "17             Burt's Bees\n",
       "18                    Nuxe\n",
       "19                  Rodial\n",
       "20               Tony Moly\n",
       "21               Tony Moly\n",
       "22                 Garnier\n",
       "23           PÜR Cosmetics\n",
       "24        First Aid Beauty\n",
       "25              Jack Black\n",
       "26            Perricone MD\n",
       "27                 Origins\n",
       "28                 L'Oréal\n",
       "29                 Lancôme\n",
       "              ...         \n",
       "961            Burt's Bees\n",
       "962        Elizabeth Arden\n",
       "963        Elizabeth Arden\n",
       "964            Burt's Bees\n",
       "965                 Goodal\n",
       "966          The Body Shop\n",
       "967            Burt's Bees\n",
       "968                 Lumene\n",
       "969                 Base 4\n",
       "970                  Coola\n",
       "971                 Dionis\n",
       "972                 Rodial\n",
       "973                 Goodal\n",
       "974               Its Skin\n",
       "975              Lalicious\n",
       "976           Estée Lauder\n",
       "977            Burt's Bees\n",
       "978               Botanics\n",
       "979        Hada Labo Tokyo\n",
       "980               MyChelle\n",
       "981                    PMD\n",
       "982                 Dionis\n",
       "983                   ULTA\n",
       "984              Tony Moly\n",
       "985               MyChelle\n",
       "986                Clarins\n",
       "987             Neutrogena\n",
       "988                 Rodial\n",
       "989        Hada Labo Tokyo\n",
       "990                Origins\n",
       "Name: brand, dtype: object"
      ]
     },
     "execution_count": 5,
     "metadata": {},
     "output_type": "execute_result"
    }
   ],
   "source": [
    "df.brand"
   ]
  },
  {
   "cell_type": "code",
   "execution_count": null,
   "metadata": {
    "collapsed": false,
    "scrolled": false
   },
   "outputs": [],
   "source": [
    "sns.distplot(df['number_reviews'])"
   ]
  },
  {
   "cell_type": "code",
   "execution_count": null,
   "metadata": {
    "collapsed": true
   },
   "outputs": [],
   "source": [
    "df.head()#.groupby('number_reviews').count()"
   ]
  },
  {
   "cell_type": "code",
   "execution_count": null,
   "metadata": {
    "collapsed": false
   },
   "outputs": [],
   "source": [
    "with open('./data/ulta-cream.json', 'r') as f: \n",
    "    ulta_cream = json.load(f)"
   ]
  },
  {
   "cell_type": "code",
   "execution_count": null,
   "metadata": {
    "collapsed": false
   },
   "outputs": [],
   "source": [
    "state_price = {}\n",
    "state_brand = {}\n",
    "state_pros = {}\n",
    "state_cons = {}\n",
    "state_bestuses = {}\n",
    "state_ratings = {}"
   ]
  },
  {
   "cell_type": "code",
   "execution_count": null,
   "metadata": {
    "collapsed": true
   },
   "outputs": [],
   "source": [
    "price = None\n",
    "brand = None\n",
    "import ast\n",
    "import re\n",
    "for prod in ulta_cream: \n",
    "    try: \n",
    "        _ = prod['reviews'][0] \n",
    "    except KeyError: \n",
    "        continue\n",
    "    try: \n",
    "        price = prod['price'][0]\n",
    "    except: \n",
    "        pass \n",
    "    try:\n",
    "        brand = prod['brand'][0]\n",
    "    except: \n",
    "        pass\n",
    "    \n",
    "    reviews = prod['reviews']\n",
    "    \n",
    "    print prod['name'], price, brand, ',', len(reviews)\n",
    "    \n",
    "    for r in reviews: \n",
    "        r = ast.literal_eval(r)\n",
    "        state = None\n",
    "        try: \n",
    "            state = r['author_location'][0].decode('utf-8')\n",
    "        except UnicodeEncodeError: \n",
    "            state = r['author_location'][0]\n",
    "        \n",
    "        state = ParseAddress().parse_address(state)\n",
    "        state = state.state\n",
    "        try: \n",
    "            state_price[state].append(price)\n",
    "        except KeyError: \n",
    "            state_price[state] = [price]\n",
    "\n",
    "        try: \n",
    "            state_brand[state].append(brand)\n",
    "        except KeyError: \n",
    "            state_brand[state] = [brand]\n",
    "\n",
    "        try: \n",
    "            state_pros[state].append(r['review_pros'])\n",
    "        except KeyError: \n",
    "            state_pros[state] = r['review_pros']\n",
    "        \n",
    "        try: \n",
    "            state_cons[state].append(r['review_cons'])\n",
    "        except KeyError: \n",
    "            state_cons[state] = r['review_cons']\n",
    "\n",
    "        try: \n",
    "            state_bestuses[state].append(r['review_bestuses'])\n",
    "        except KeyError: \n",
    "            state_bestuses[state] = r['review_bestuses']\n",
    "\n",
    "        try: \n",
    "            state_ratings[state].append(r['rating_score'])\n",
    "        except KeyError: \n",
    "            state_ratings[state] = r['rating_score']"
   ]
  },
  {
   "cell_type": "code",
   "execution_count": null,
   "metadata": {
    "collapsed": false,
    "scrolled": false
   },
   "outputs": [],
   "source": [
    "for (name, d) in zip(['state_price', 'state_brand', 'state_pros', 'state_cons', 'state_bestuses', 'state_ratings'], \n",
    "                     [state_price, state_brand, state_pros, state_cons, state_bestuses, state_ratings]): \n",
    "    with open(name + '.json', 'w') as f: \n",
    "        json.dump(d, f)"
   ]
  },
  {
   "cell_type": "code",
   "execution_count": null,
   "metadata": {
    "collapsed": true
   },
   "outputs": [],
   "source": [
    "\n",
    "for i in state_brand: \n",
    "    print i, Counter(state_brand[i]).most_common(10)"
   ]
  },
  {
   "cell_type": "code",
   "execution_count": null,
   "metadata": {
    "collapsed": true
   },
   "outputs": [],
   "source": [
    "full_fulllist = []\n",
    "for i in state_cons: \n",
    "    li = state_cons[i]\n",
    "    full_li = []\n",
    "    for item in li: \n",
    "        if type(item) is unicode: \n",
    "            full_li.append(item)\n",
    "        else:\n",
    "            full_li += [x for x in item]\n",
    "    full_fulllist += full_li\n",
    "    print i, Counter(full_li).most_common(5)"
   ]
  },
  {
   "cell_type": "code",
   "execution_count": null,
   "metadata": {
    "collapsed": false
   },
   "outputs": [],
   "source": [
    "Counter(full_fulllist).most_common(20)"
   ]
  },
  {
   "cell_type": "code",
   "execution_count": null,
   "metadata": {
    "collapsed": false
   },
   "outputs": [],
   "source": [
    "full_fulllist = []\n",
    "for i in state_pros: \n",
    "    li = state_pros[i]\n",
    "    full_li = []\n",
    "    for item in li: \n",
    "        if type(item) is unicode: \n",
    "            full_li.append(item)\n",
    "        else:\n",
    "            full_li += [x for x in item]\n",
    "    full_fulllist += full_li\n",
    "    print i, Counter(full_li).most_common(5)"
   ]
  },
  {
   "cell_type": "code",
   "execution_count": null,
   "metadata": {
    "collapsed": false,
    "scrolled": false
   },
   "outputs": [],
   "source": [
    "Counter(full_fulllist).most_common(20)"
   ]
  },
  {
   "cell_type": "code",
   "execution_count": null,
   "metadata": {
    "collapsed": false
   },
   "outputs": [],
   "source": [
    "full_fulllist = []\n",
    "for i in state_ratings: \n",
    "    li = state_ratings[i]\n",
    "    full_li = []\n",
    "    for item in li: \n",
    "        if type(item) is unicode: \n",
    "            full_li.append(float(item))\n",
    "        else:\n",
    "            full_li += [float(x) for x in item]\n",
    "    full_fulllist += full_li\n",
    "    print i, np.mean(full_li), np.count_nonzero(full_li)"
   ]
  },
  {
   "cell_type": "code",
   "execution_count": null,
   "metadata": {
    "collapsed": false
   },
   "outputs": [],
   "source": [
    "df_state_price = pd.DataFrame(columns = ['state', 'price', 'count', 'std', 'median'])\n",
    "full_fulllist = []\n",
    "index = 0\n",
    "for i in state_price: \n",
    "    li = state_price[i]\n",
    "    full_li = []\n",
    "    for item in li: \n",
    "        if type(item) is unicode: \n",
    "            full_li.append(float(item))\n",
    "        else:\n",
    "            full_li += [float(x) for x in item]\n",
    "    full_fulllist += full_li\n",
    "    df_state_price.loc[index] = [i, np.mean(full_li), np.count_nonzero(full_li), np.std(full_li), np.median(full_li)]\n",
    "    index += 1"
   ]
  },
  {
   "cell_type": "code",
   "execution_count": null,
   "metadata": {
    "collapsed": false
   },
   "outputs": [],
   "source": [
    "df_state_price.sort(['price'])"
   ]
  },
  {
   "cell_type": "code",
   "execution_count": null,
   "metadata": {
    "collapsed": true
   },
   "outputs": [],
   "source": []
  }
 ],
 "metadata": {
  "kernelspec": {
   "display_name": "Python 2",
   "language": "python",
   "name": "python2"
  },
  "language_info": {
   "codemirror_mode": {
    "name": "ipython",
    "version": 2
   },
   "file_extension": ".py",
   "mimetype": "text/x-python",
   "name": "python",
   "nbconvert_exporter": "python",
   "pygments_lexer": "ipython2",
   "version": "2.7.11"
  }
 },
 "nbformat": 4,
 "nbformat_minor": 0
}
