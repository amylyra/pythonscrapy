{
 "cells": [
  {
   "cell_type": "code",
   "execution_count": 7,
   "metadata": {
    "collapsed": false
   },
   "outputs": [],
   "source": [
    "import pandas as pd\n",
    "import sklearn\n",
    "import numpy as np\n",
    "import scipy as sp\n",
    "import operator\n",
    "import csv\n",
    "import re\n",
    "import json\n",
    "import seaborn as sns\n",
    "import matplotlib.pyplot as plt\n",
    "import matplotlib\n",
    "import operator\n",
    "from collections import Counter\n",
    "from address_parser.address_parser import ParseAddress\n",
    "from fuzzywuzzy import fuzz\n",
    "from sklearn.feature_extraction.text import CountVectorizer\n",
    "\n",
    "\n",
    "matplotlib.style.use('ggplot')\n",
    "%matplotlib notebook "
   ]
  },
  {
   "cell_type": "code",
   "execution_count": 2,
   "metadata": {
    "collapsed": true
   },
   "outputs": [],
   "source": [
    "df = pd.read_json('./data/ulta-cream.json')"
   ]
  },
  {
   "cell_type": "code",
   "execution_count": 3,
   "metadata": {
    "collapsed": false
   },
   "outputs": [],
   "source": [
    "for index, row in df.iterrows(): \n",
    "    try: \n",
    "        df.loc[index, 'number_reviews'] = int(row['number_reviews'][0])\n",
    "    except: \n",
    "        df.loc[index, 'number_reviews'] = -10\n",
    "    \n",
    "    try: \n",
    "        df.loc[index, 'category'] = row['category'][-1]\n",
    "    except: \n",
    "        df.loc[index, 'category'] = ''\n",
    "    \n",
    "    try: \n",
    "        df.loc[index, 'brand'] = row['brand'][-1]\n",
    "    except: \n",
    "        df.loc[index, 'brand'] = ''"
   ]
  },
  {
   "cell_type": "code",
   "execution_count": 9,
   "metadata": {
    "collapsed": false,
    "scrolled": false
   },
   "outputs": [
    {
     "data": {
      "text/plain": [
       "[(u'Clinique', 52),\n",
       " (u'Olay', 39),\n",
       " (u'Neutrogena', 34),\n",
       " (u'The Body Shop', 31),\n",
       " (u\"Burt's Bees\", 30),\n",
       " (u'Philosophy', 26),\n",
       " (u'Mario Badescu', 26),\n",
       " (u'Lanc\\xf4me', 26),\n",
       " (u'Clarins', 25),\n",
       " (u\"L'Or\\xe9al\", 24)]"
      ]
     },
     "execution_count": 9,
     "metadata": {},
     "output_type": "execute_result"
    }
   ],
   "source": [
    "Counter(df.brand).most_common(10)"
   ]
  },
  {
   "cell_type": "code",
   "execution_count": 12,
   "metadata": {
    "collapsed": false
   },
   "outputs": [
    {
     "data": {
      "text/plain": [
       "[(u'Face Moisturizer', 480),\n",
       " (u'Night Cream', 118),\n",
       " (u'Lip Care', 97),\n",
       " (u'BB &amp; CC Creams', 74),\n",
       " (u'Decollete &amp; Neck Cream', 30),\n",
       " (u'Face Oil', 28),\n",
       " (u'Moisturizers', 26),\n",
       " (u'Skin Gifts', 18),\n",
       " (u'Travel Size', 17),\n",
       " (u'Gifts &amp; Value Sets', 16),\n",
       " (u'Natural Skin Care', 15),\n",
       " (u'Face Mist', 14),\n",
       " (u'Korean Skin Care', 13),\n",
       " (u'Treatments &amp; Balms', 12),\n",
       " (u'Face Serums', 7),\n",
       " (u'Foundation', 4),\n",
       " (u'Tiny Treats', 2),\n",
       " (u'Face Primer', 2),\n",
       " (u'Acne &amp; Blemish Treatments', 2),\n",
       " (u'Toner', 2),\n",
       " (u'Tools', 2),\n",
       " (u'Aftershave', 1),\n",
       " (u'Highlighter', 1),\n",
       " (u'Eye Cream', 1),\n",
       " (u'Self-Tanning &amp; Bronzing', 1),\n",
       " (u'Eye Primer &amp; Base', 1),\n",
       " (u'Nail Polish', 1),\n",
       " (u'Bronzer', 1),\n",
       " (u'Face Powder', 1),\n",
       " (u'Perfume', 1)]"
      ]
     },
     "execution_count": 12,
     "metadata": {},
     "output_type": "execute_result"
    }
   ],
   "source": [
    "Counter(df.category).most_common(30)"
   ]
  },
  {
   "cell_type": "code",
   "execution_count": null,
   "metadata": {
    "collapsed": false,
    "scrolled": false
   },
   "outputs": [],
   "source": [
    "sns.distplot(df['number_reviews'])"
   ]
  },
  {
   "cell_type": "code",
   "execution_count": null,
   "metadata": {
    "collapsed": true
   },
   "outputs": [],
   "source": [
    "df.head()#.groupby('number_reviews').count()"
   ]
  },
  {
   "cell_type": "code",
   "execution_count": null,
   "metadata": {
    "collapsed": false
   },
   "outputs": [],
   "source": [
    "with open('./data/ulta-cream.json', 'r') as f: \n",
    "    ulta_cream = json.load(f)"
   ]
  },
  {
   "cell_type": "code",
   "execution_count": null,
   "metadata": {
    "collapsed": false
   },
   "outputs": [],
   "source": [
    "state_price = {}\n",
    "state_brand = {}\n",
    "state_pros = {}\n",
    "state_cons = {}\n",
    "state_bestuses = {}\n",
    "state_ratings = {}"
   ]
  },
  {
   "cell_type": "code",
   "execution_count": null,
   "metadata": {
    "collapsed": true
   },
   "outputs": [],
   "source": [
    "price = None\n",
    "brand = None\n",
    "import ast\n",
    "import re\n",
    "for prod in ulta_cream: \n",
    "    try: \n",
    "        _ = prod['reviews'][0] \n",
    "    except KeyError: \n",
    "        continue\n",
    "    try: \n",
    "        price = prod['price'][0]\n",
    "    except: \n",
    "        pass \n",
    "    try:\n",
    "        brand = prod['brand'][0]\n",
    "    except: \n",
    "        pass\n",
    "    \n",
    "    reviews = prod['reviews']\n",
    "    \n",
    "    print prod['name'], price, brand, ',', len(reviews)\n",
    "    \n",
    "    for r in reviews: \n",
    "        r = ast.literal_eval(r)\n",
    "        state = None\n",
    "        try: \n",
    "            state = r['author_location'][0].decode('utf-8')\n",
    "        except UnicodeEncodeError: \n",
    "            state = r['author_location'][0]\n",
    "        \n",
    "        state = ParseAddress().parse_address(state)\n",
    "        state = state.state\n",
    "        try: \n",
    "            state_price[state].append(price)\n",
    "        except KeyError: \n",
    "            state_price[state] = [price]\n",
    "\n",
    "        try: \n",
    "            state_brand[state].append(brand)\n",
    "        except KeyError: \n",
    "            state_brand[state] = [brand]\n",
    "\n",
    "        try: \n",
    "            state_pros[state].append(r['review_pros'])\n",
    "        except KeyError: \n",
    "            state_pros[state] = r['review_pros']\n",
    "        \n",
    "        try: \n",
    "            state_cons[state].append(r['review_cons'])\n",
    "        except KeyError: \n",
    "            state_cons[state] = r['review_cons']\n",
    "\n",
    "        try: \n",
    "            state_bestuses[state].append(r['review_bestuses'])\n",
    "        except KeyError: \n",
    "            state_bestuses[state] = r['review_bestuses']\n",
    "\n",
    "        try: \n",
    "            state_ratings[state].append(r['rating_score'])\n",
    "        except KeyError: \n",
    "            state_ratings[state] = r['rating_score']"
   ]
  },
  {
   "cell_type": "code",
   "execution_count": null,
   "metadata": {
    "collapsed": false,
    "scrolled": false
   },
   "outputs": [],
   "source": [
    "for (name, d) in zip(['state_price', 'state_brand', 'state_pros', 'state_cons', 'state_bestuses', 'state_ratings'], \n",
    "                     [state_price, state_brand, state_pros, state_cons, state_bestuses, state_ratings]): \n",
    "    with open(name + '.json', 'w') as f: \n",
    "        json.dump(d, f)"
   ]
  },
  {
   "cell_type": "code",
   "execution_count": null,
   "metadata": {
    "collapsed": true
   },
   "outputs": [],
   "source": [
    "\n",
    "for i in state_brand: \n",
    "    print i, Counter(state_brand[i]).most_common(10)"
   ]
  },
  {
   "cell_type": "code",
   "execution_count": null,
   "metadata": {
    "collapsed": true
   },
   "outputs": [],
   "source": [
    "full_fulllist = []\n",
    "for i in state_cons: \n",
    "    li = state_cons[i]\n",
    "    full_li = []\n",
    "    for item in li: \n",
    "        if type(item) is unicode: \n",
    "            full_li.append(item)\n",
    "        else:\n",
    "            full_li += [x for x in item]\n",
    "    full_fulllist += full_li\n",
    "    print i, Counter(full_li).most_common(5)"
   ]
  },
  {
   "cell_type": "code",
   "execution_count": null,
   "metadata": {
    "collapsed": false
   },
   "outputs": [],
   "source": [
    "Counter(full_fulllist).most_common(20)"
   ]
  },
  {
   "cell_type": "code",
   "execution_count": null,
   "metadata": {
    "collapsed": false
   },
   "outputs": [],
   "source": [
    "full_fulllist = []\n",
    "for i in state_pros: \n",
    "    li = state_pros[i]\n",
    "    full_li = []\n",
    "    for item in li: \n",
    "        if type(item) is unicode: \n",
    "            full_li.append(item)\n",
    "        else:\n",
    "            full_li += [x for x in item]\n",
    "    full_fulllist += full_li\n",
    "    print i, Counter(full_li).most_common(5)"
   ]
  },
  {
   "cell_type": "code",
   "execution_count": null,
   "metadata": {
    "collapsed": false,
    "scrolled": false
   },
   "outputs": [],
   "source": [
    "Counter(full_fulllist).most_common(20)"
   ]
  },
  {
   "cell_type": "code",
   "execution_count": null,
   "metadata": {
    "collapsed": false
   },
   "outputs": [],
   "source": [
    "full_fulllist = []\n",
    "for i in state_ratings: \n",
    "    li = state_ratings[i]\n",
    "    full_li = []\n",
    "    for item in li: \n",
    "        if type(item) is unicode: \n",
    "            full_li.append(float(item))\n",
    "        else:\n",
    "            full_li += [float(x) for x in item]\n",
    "    full_fulllist += full_li\n",
    "    print i, np.mean(full_li), np.count_nonzero(full_li)"
   ]
  },
  {
   "cell_type": "code",
   "execution_count": null,
   "metadata": {
    "collapsed": false
   },
   "outputs": [],
   "source": [
    "df_state_price = pd.DataFrame(columns = ['state', 'price', 'count', 'std', 'median'])\n",
    "full_fulllist = []\n",
    "index = 0\n",
    "for i in state_price: \n",
    "    li = state_price[i]\n",
    "    full_li = []\n",
    "    for item in li: \n",
    "        if type(item) is unicode: \n",
    "            full_li.append(float(item))\n",
    "        else:\n",
    "            full_li += [float(x) for x in item]\n",
    "    full_fulllist += full_li\n",
    "    df_state_price.loc[index] = [i, np.mean(full_li), np.count_nonzero(full_li), np.std(full_li), np.median(full_li)]\n",
    "    index += 1"
   ]
  },
  {
   "cell_type": "code",
   "execution_count": null,
   "metadata": {
    "collapsed": false
   },
   "outputs": [],
   "source": [
    "df_state_price.sort(['price'])"
   ]
  },
  {
   "cell_type": "code",
   "execution_count": null,
   "metadata": {
    "collapsed": true
   },
   "outputs": [],
   "source": []
  }
 ],
 "metadata": {
  "kernelspec": {
   "display_name": "Python 2",
   "language": "python",
   "name": "python2"
  },
  "language_info": {
   "codemirror_mode": {
    "name": "ipython",
    "version": 2
   },
   "file_extension": ".py",
   "mimetype": "text/x-python",
   "name": "python",
   "nbconvert_exporter": "python",
   "pygments_lexer": "ipython2",
   "version": "2.7.11"
  }
 },
 "nbformat": 4,
 "nbformat_minor": 0
}
